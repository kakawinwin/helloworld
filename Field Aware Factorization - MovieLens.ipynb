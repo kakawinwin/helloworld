{
 "cells": [
  {
   "cell_type": "markdown",
   "metadata": {},
   "source": [
    "# MoviesLens With Field Aware Factorization Machines (FFM)\n",
    "\n",
    "* This example walks through how to use the FFM algorithm to train against the movies lens dataset for recommendations\n",
    "* Using a supervised model like FFM we can incorporate many other pieces of feedback that would otherwise not be able to be in corporated in a matrix factorization model\n",
    "* Note that this implementation hashes all input features. This means that items like genre which have one to many items will have as many columns as there are unique combinations of features. As a result I will also create length width columns for tags and genres"
   ]
  },
  {
   "cell_type": "markdown",
   "metadata": {},
   "source": [
    "# Set up Environment"
   ]
  },
  {
   "cell_type": "code",
   "execution_count": 1,
   "metadata": {},
   "outputs": [],
   "source": [
    "import pandas as pd\n",
    "import numpy as np\n",
    "# S3 prefix\n",
    "prefix = 'movieslens-ffm'\n",
    "\n",
    "# Define IAM role\n",
    "import boto3\n",
    "import re\n",
    "\n",
    "import os\n",
    "from sagemaker import get_execution_role\n",
    "\n",
    "role = get_execution_role()"
   ]
  },
  {
   "cell_type": "code",
   "execution_count": 3,
   "metadata": {},
   "outputs": [
    {
     "name": "stdout",
     "output_type": "stream",
     "text": [
      "Field Aware Factorization Test.ipynb  \u001b[0m\u001b[01;34mml-latest-small\u001b[0m/\r\n",
      "\u001b[01;34mlost+found\u001b[0m/                           \u001b[01;31mml-latest-small.zip\u001b[0m\r\n"
     ]
    }
   ],
   "source": [
    "ls"
   ]
  },
  {
   "cell_type": "markdown",
   "metadata": {},
   "source": [
    "* Download the small version of the movie lens dataset here https://grouplens.org/datasets/movielens/100k/\n",
    "* Unzip the files"
   ]
  },
  {
   "cell_type": "code",
   "execution_count": 17,
   "metadata": {},
   "outputs": [],
   "source": [
    "ratings_df = pd.read_csv('ml-latest-small/ratings.csv')\n",
    "movies_df = pd.read_csv('ml-latest-small/movies.csv')\n",
    "tags_df = pd.read_csv('ml-latest-small/tags.csv')\n",
    "links_df = pd.read_csv('ml-latest-small/links.csv')"
   ]
  },
  {
   "cell_type": "code",
   "execution_count": 18,
   "metadata": {},
   "outputs": [
    {
     "data": {
      "text/html": [
       "<div>\n",
       "<style scoped>\n",
       "    .dataframe tbody tr th:only-of-type {\n",
       "        vertical-align: middle;\n",
       "    }\n",
       "\n",
       "    .dataframe tbody tr th {\n",
       "        vertical-align: top;\n",
       "    }\n",
       "\n",
       "    .dataframe thead th {\n",
       "        text-align: right;\n",
       "    }\n",
       "</style>\n",
       "<table border=\"1\" class=\"dataframe\">\n",
       "  <thead>\n",
       "    <tr style=\"text-align: right;\">\n",
       "      <th></th>\n",
       "      <th>userId</th>\n",
       "      <th>movieId</th>\n",
       "      <th>rating</th>\n",
       "      <th>timestamp</th>\n",
       "    </tr>\n",
       "  </thead>\n",
       "  <tbody>\n",
       "    <tr>\n",
       "      <th>0</th>\n",
       "      <td>1</td>\n",
       "      <td>1</td>\n",
       "      <td>4.0</td>\n",
       "      <td>964982703</td>\n",
       "    </tr>\n",
       "    <tr>\n",
       "      <th>1</th>\n",
       "      <td>1</td>\n",
       "      <td>3</td>\n",
       "      <td>4.0</td>\n",
       "      <td>964981247</td>\n",
       "    </tr>\n",
       "    <tr>\n",
       "      <th>2</th>\n",
       "      <td>1</td>\n",
       "      <td>6</td>\n",
       "      <td>4.0</td>\n",
       "      <td>964982224</td>\n",
       "    </tr>\n",
       "    <tr>\n",
       "      <th>3</th>\n",
       "      <td>1</td>\n",
       "      <td>47</td>\n",
       "      <td>5.0</td>\n",
       "      <td>964983815</td>\n",
       "    </tr>\n",
       "    <tr>\n",
       "      <th>4</th>\n",
       "      <td>1</td>\n",
       "      <td>50</td>\n",
       "      <td>5.0</td>\n",
       "      <td>964982931</td>\n",
       "    </tr>\n",
       "  </tbody>\n",
       "</table>\n",
       "</div>"
      ],
      "text/plain": [
       "   userId  movieId  rating  timestamp\n",
       "0       1        1     4.0  964982703\n",
       "1       1        3     4.0  964981247\n",
       "2       1        6     4.0  964982224\n",
       "3       1       47     5.0  964983815\n",
       "4       1       50     5.0  964982931"
      ]
     },
     "execution_count": 18,
     "metadata": {},
     "output_type": "execute_result"
    }
   ],
   "source": [
    "ratings_df.head()"
   ]
  },
  {
   "cell_type": "code",
   "execution_count": 95,
   "metadata": {},
   "outputs": [
    {
     "data": {
      "text/plain": [
       "0.4817723828791305"
      ]
     },
     "execution_count": 95,
     "metadata": {},
     "output_type": "execute_result"
    }
   ],
   "source": [
    "ratings_df[ratings_df['rating']>=4].shape[0]/ratings_df.shape[0]"
   ]
  },
  {
   "cell_type": "code",
   "execution_count": 19,
   "metadata": {},
   "outputs": [
    {
     "data": {
      "text/html": [
       "<div>\n",
       "<style scoped>\n",
       "    .dataframe tbody tr th:only-of-type {\n",
       "        vertical-align: middle;\n",
       "    }\n",
       "\n",
       "    .dataframe tbody tr th {\n",
       "        vertical-align: top;\n",
       "    }\n",
       "\n",
       "    .dataframe thead th {\n",
       "        text-align: right;\n",
       "    }\n",
       "</style>\n",
       "<table border=\"1\" class=\"dataframe\">\n",
       "  <thead>\n",
       "    <tr style=\"text-align: right;\">\n",
       "      <th></th>\n",
       "      <th>movieId</th>\n",
       "      <th>title</th>\n",
       "      <th>genres</th>\n",
       "    </tr>\n",
       "  </thead>\n",
       "  <tbody>\n",
       "    <tr>\n",
       "      <th>0</th>\n",
       "      <td>1</td>\n",
       "      <td>Toy Story (1995)</td>\n",
       "      <td>Adventure|Animation|Children|Comedy|Fantasy</td>\n",
       "    </tr>\n",
       "    <tr>\n",
       "      <th>1</th>\n",
       "      <td>2</td>\n",
       "      <td>Jumanji (1995)</td>\n",
       "      <td>Adventure|Children|Fantasy</td>\n",
       "    </tr>\n",
       "    <tr>\n",
       "      <th>2</th>\n",
       "      <td>3</td>\n",
       "      <td>Grumpier Old Men (1995)</td>\n",
       "      <td>Comedy|Romance</td>\n",
       "    </tr>\n",
       "    <tr>\n",
       "      <th>3</th>\n",
       "      <td>4</td>\n",
       "      <td>Waiting to Exhale (1995)</td>\n",
       "      <td>Comedy|Drama|Romance</td>\n",
       "    </tr>\n",
       "    <tr>\n",
       "      <th>4</th>\n",
       "      <td>5</td>\n",
       "      <td>Father of the Bride Part II (1995)</td>\n",
       "      <td>Comedy</td>\n",
       "    </tr>\n",
       "  </tbody>\n",
       "</table>\n",
       "</div>"
      ],
      "text/plain": [
       "   movieId                               title  \\\n",
       "0        1                    Toy Story (1995)   \n",
       "1        2                      Jumanji (1995)   \n",
       "2        3             Grumpier Old Men (1995)   \n",
       "3        4            Waiting to Exhale (1995)   \n",
       "4        5  Father of the Bride Part II (1995)   \n",
       "\n",
       "                                        genres  \n",
       "0  Adventure|Animation|Children|Comedy|Fantasy  \n",
       "1                   Adventure|Children|Fantasy  \n",
       "2                               Comedy|Romance  \n",
       "3                         Comedy|Drama|Romance  \n",
       "4                                       Comedy  "
      ]
     },
     "execution_count": 19,
     "metadata": {},
     "output_type": "execute_result"
    }
   ],
   "source": [
    "movies_df.head()"
   ]
  },
  {
   "cell_type": "markdown",
   "metadata": {},
   "source": [
    "* Genres could be useful for recommendations, let's preprocess this data"
   ]
  },
  {
   "cell_type": "code",
   "execution_count": 20,
   "metadata": {},
   "outputs": [],
   "source": [
    "genre_lists = movies_df['genres'].str.split('|').tolist()\n",
    "genre_set = set([item for items in genre_lists for item in items])"
   ]
  },
  {
   "cell_type": "code",
   "execution_count": 21,
   "metadata": {},
   "outputs": [
    {
     "data": {
      "text/plain": [
       "(no genres listed)    0\n",
       "Action                0\n",
       "Adventure             0\n",
       "Animation             0\n",
       "Children              0\n",
       "Comedy                0\n",
       "Crime                 0\n",
       "Documentary           0\n",
       "Drama                 0\n",
       "Fantasy               0\n",
       "Film-Noir             0\n",
       "Horror                0\n",
       "IMAX                  0\n",
       "Musical               0\n",
       "Mystery               0\n",
       "Romance               0\n",
       "Sci-Fi                0\n",
       "Thriller              0\n",
       "War                   0\n",
       "Western               0\n",
       "dtype: int64"
      ]
     },
     "execution_count": 21,
     "metadata": {},
     "output_type": "execute_result"
    }
   ],
   "source": [
    "pd.Series(dict(zip(genre_set, [0]*len(genre_set))))"
   ]
  },
  {
   "cell_type": "code",
   "execution_count": 22,
   "metadata": {},
   "outputs": [
    {
     "data": {
      "text/html": [
       "<div>\n",
       "<style scoped>\n",
       "    .dataframe tbody tr th:only-of-type {\n",
       "        vertical-align: middle;\n",
       "    }\n",
       "\n",
       "    .dataframe tbody tr th {\n",
       "        vertical-align: top;\n",
       "    }\n",
       "\n",
       "    .dataframe thead th {\n",
       "        text-align: right;\n",
       "    }\n",
       "</style>\n",
       "<table border=\"1\" class=\"dataframe\">\n",
       "  <thead>\n",
       "    <tr style=\"text-align: right;\">\n",
       "      <th></th>\n",
       "      <th>userId</th>\n",
       "      <th>movieId</th>\n",
       "      <th>tag</th>\n",
       "      <th>timestamp</th>\n",
       "    </tr>\n",
       "  </thead>\n",
       "  <tbody>\n",
       "    <tr>\n",
       "      <th>0</th>\n",
       "      <td>2</td>\n",
       "      <td>60756</td>\n",
       "      <td>funny</td>\n",
       "      <td>1445714994</td>\n",
       "    </tr>\n",
       "    <tr>\n",
       "      <th>1</th>\n",
       "      <td>2</td>\n",
       "      <td>60756</td>\n",
       "      <td>Highly quotable</td>\n",
       "      <td>1445714996</td>\n",
       "    </tr>\n",
       "    <tr>\n",
       "      <th>2</th>\n",
       "      <td>2</td>\n",
       "      <td>60756</td>\n",
       "      <td>will ferrell</td>\n",
       "      <td>1445714992</td>\n",
       "    </tr>\n",
       "    <tr>\n",
       "      <th>3</th>\n",
       "      <td>2</td>\n",
       "      <td>89774</td>\n",
       "      <td>Boxing story</td>\n",
       "      <td>1445715207</td>\n",
       "    </tr>\n",
       "    <tr>\n",
       "      <th>4</th>\n",
       "      <td>2</td>\n",
       "      <td>89774</td>\n",
       "      <td>MMA</td>\n",
       "      <td>1445715200</td>\n",
       "    </tr>\n",
       "  </tbody>\n",
       "</table>\n",
       "</div>"
      ],
      "text/plain": [
       "   userId  movieId              tag   timestamp\n",
       "0       2    60756            funny  1445714994\n",
       "1       2    60756  Highly quotable  1445714996\n",
       "2       2    60756     will ferrell  1445714992\n",
       "3       2    89774     Boxing story  1445715207\n",
       "4       2    89774              MMA  1445715200"
      ]
     },
     "execution_count": 22,
     "metadata": {},
     "output_type": "execute_result"
    }
   ],
   "source": [
    "tags_df.head()"
   ]
  },
  {
   "cell_type": "markdown",
   "metadata": {},
   "source": [
    "* Tags could also be useful for recommendations, even if they are more sparse"
   ]
  },
  {
   "cell_type": "code",
   "execution_count": 23,
   "metadata": {},
   "outputs": [
    {
     "data": {
      "text/plain": [
       "<matplotlib.axes._subplots.AxesSubplot at 0x7f4f4f640780>"
      ]
     },
     "execution_count": 23,
     "metadata": {},
     "output_type": "execute_result"
    },
    {
     "data": {
      "image/png": "[encoded data removed]",
      "text/plain": [
       "<Figure size 432x288 with 1 Axes>"
      ]
     },
     "metadata": {},
     "output_type": "display_data"
    }
   ],
   "source": [
    "%matplotlib inline\n",
    "tags_df['tag'].value_counts().head(100).hist()"
   ]
  },
  {
   "cell_type": "code",
   "execution_count": 24,
   "metadata": {},
   "outputs": [
    {
     "data": {
      "text/plain": [
       "1589"
      ]
     },
     "execution_count": 24,
     "metadata": {},
     "output_type": "execute_result"
    }
   ],
   "source": [
    "tags_df['tag'].unique().size"
   ]
  },
  {
   "cell_type": "markdown",
   "metadata": {},
   "source": [
    "# Code to Explode Tags & Genres Into Fixed Width Columns"
   ]
  },
  {
   "cell_type": "code",
   "execution_count": 59,
   "metadata": {},
   "outputs": [],
   "source": [
    "def explode_item(x, sep, bins):\n",
    "    slots = ['none']*bins\n",
    "    seperated = x.split(sep)\n",
    "    for i, entry in enumerate(seperated[:bins]):\n",
    "        slots[i] = entry\n",
    "    return slots\n",
    "\n",
    "def create_exploded_features(df, column, sep, bins):\n",
    "    exploded_items = [explode_item(x, sep, bins) for x in df[column].tolist()]\n",
    "    column_headers = ['{}_{}'.format(column, i) for i in range(bins)]\n",
    "    exploded_feat = pd.DataFrame(exploded_items,columns=column_headers)\n",
    "    return pd.concat([df, exploded_feat],axis=1)"
   ]
  },
  {
   "cell_type": "markdown",
   "metadata": {},
   "source": [
    "# Code to Procress Tags into FFM useable format"
   ]
  },
  {
   "cell_type": "code",
   "execution_count": 49,
   "metadata": {},
   "outputs": [],
   "source": [
    "from copy import deepcopy\n",
    "\n",
    "def fit_vocab(tags, cut_off):\n",
    "    vocab = tags['tag'].str.lower().value_counts(normalize=True)>cut_off\n",
    "    vocab_dict = (vocab[vocab==1]-1).to_dict()\n",
    "    print('INFO - Finding Tag Vocabulary')\n",
    "    print(\"{} words in the tags vocabulary\".format(len(vocab_dict)))\n",
    "    return vocab_dict\n",
    "\n",
    "def explode_tags(tags, cut_off):\n",
    "    vocab_dict = fit_vocab(tags, cut_off)\n",
    "    vocab_series = [0]*tags.shape[0]\n",
    "    print('INFO - Joining Tag Data to Ratings')\n",
    "    for ix, user_movie in tags.iterrows():\n",
    "        if ix % 500 ==0:\n",
    "            print(\"Completed Expanded Tags in {} of {} rows\".format(ix, tags.shape[0]))\n",
    "        vocab_i = deepcopy(vocab_dict)\n",
    "        tag = user_movie['tag'].lower()\n",
    "        if tag in vocab_i:\n",
    "            vocab_i[tag] = 1\n",
    "        vocab_series[ix] = vocab_i\n",
    "    tags_df = pd.DataFrame(vocab_series)\n",
    "    return tags_df\n",
    "\n",
    "def create_tags_categorical(tags, cut_off):\n",
    "    exploded_tags = explode_tags(tags, cut_off)\n",
    "    exploded_tags.columns = [\"tag&{}\".format(c) for c in exploded_tags.columns]\n",
    "    merged_df = pd.concat((tags, exploded_tags),axis=1).groupby(['userId','movieId']).sum().reset_index()\n",
    "    tag_strs = ['none']*merged_df.shape[0]\n",
    "    for ix, row in merged_df.iterrows():\n",
    "        tags = row.index[[x.startswith('tag') for x in row.index]]\n",
    "        tags_present = row[tags]>0\n",
    "        if tags_present.shape[0] > 0:\n",
    "            tags = tags_present.index.tolist()\n",
    "            tag_str = '_'.join([x for x in tags])\n",
    "            tag_strs[ix] = tag_str\n",
    "    merged_df = merged_df.drop(exploded_tags,axis=1)\n",
    "    merged_df['tags'] = tag_strs\n",
    "    return merged_df"
   ]
  },
  {
   "cell_type": "markdown",
   "metadata": {},
   "source": [
    "# Final Data Processing Code \n",
    "\n",
    "* This links together the functions to process genres & tags\n",
    "* We also add a binary indicator if a user has supplied tags for a given film as tags are infrequent"
   ]
  },
  {
   "cell_type": "code",
   "execution_count": 80,
   "metadata": {},
   "outputs": [],
   "source": [
    "def label_convert(x,cutoff):\n",
    "    if x >= cutoff:\n",
    "        return 1\n",
    "    else:\n",
    "        return 0\n",
    "\n",
    "def create_prepared_dataset(ratings, movies, tags, tag_cutoff):\n",
    "    ratings_genre = pd.merge(ratings, movies, on=['movieId'])\n",
    "    ratings_genre = ratings_genre.drop(['timestamp','title'],axis=1)\n",
    "    tags_data = create_tags_categorical(tags_df, tag_cutoff)\n",
    "    tags_data = tags_data.drop('timestamp',axis=1)\n",
    "    print('INFO - Merging All Data')\n",
    "    combined_data = pd.merge(ratings_genre,tags_data, on=['userId','movieId'],how='left').fillna(np.nan)\n",
    "    combined_data = combined_data.rename({'rating':'label'},axis=1)\n",
    "    combined_data['user_supplied_tags'] = ~combined_data['tags'].isnull()\n",
    "    combined_data['user_supplied_tags'] = combined_data['user_supplied_tags'].map({False: 'no_tags_supplied', True: 'tags_supplied'})\n",
    "    combined_data['tags'] = combined_data['tags'].fillna('none')\n",
    "    combined_data = create_exploded_features(combined_data, 'tags', '_', 10)\n",
    "    combined_data = create_exploded_features(combined_data, 'genres', '|', 5)\n",
    "    combined_data['label'] = combined_data['label'].apply(lambda x: label_convert(x,4))\n",
    "    return combined_data"
   ]
  },
  {
   "cell_type": "code",
   "execution_count": 81,
   "metadata": {},
   "outputs": [
    {
     "name": "stdout",
     "output_type": "stream",
     "text": [
      "INFO - Finding Tag Vocabulary\n",
      "235 words in the tags vocabulary\n",
      "INFO - Joining Tag Data to Ratings\n",
      "Completed Expanded Tags in 0 of 3683 rows\n",
      "Completed Expanded Tags in 500 of 3683 rows\n",
      "Completed Expanded Tags in 1000 of 3683 rows\n",
      "Completed Expanded Tags in 1500 of 3683 rows\n",
      "Completed Expanded Tags in 2000 of 3683 rows\n",
      "Completed Expanded Tags in 2500 of 3683 rows\n",
      "Completed Expanded Tags in 3000 of 3683 rows\n",
      "Completed Expanded Tags in 3500 of 3683 rows\n",
      "INFO - Merging All Data\n"
     ]
    }
   ],
   "source": [
    "data_set_prepped = create_prepared_dataset(ratings_df, movies_df, tags_df, 0.001)"
   ]
  },
  {
   "cell_type": "code",
   "execution_count": 82,
   "metadata": {},
   "outputs": [
    {
     "data": {
      "text/plain": [
       "no_tags_supplied    99201\n",
       "tags_supplied        1635\n",
       "Name: user_supplied_tags, dtype: int64"
      ]
     },
     "execution_count": 82,
     "metadata": {},
     "output_type": "execute_result"
    }
   ],
   "source": [
    "data_set_prepped['user_supplied_tags'].value_counts()"
   ]
  },
  {
   "cell_type": "code",
   "execution_count": 83,
   "metadata": {},
   "outputs": [
    {
     "data": {
      "text/html": [
       "<div>\n",
       "<style scoped>\n",
       "    .dataframe tbody tr th:only-of-type {\n",
       "        vertical-align: middle;\n",
       "    }\n",
       "\n",
       "    .dataframe tbody tr th {\n",
       "        vertical-align: top;\n",
       "    }\n",
       "\n",
       "    .dataframe thead th {\n",
       "        text-align: right;\n",
       "    }\n",
       "</style>\n",
       "<table border=\"1\" class=\"dataframe\">\n",
       "  <thead>\n",
       "    <tr style=\"text-align: right;\">\n",
       "      <th></th>\n",
       "      <th>userId</th>\n",
       "      <th>movieId</th>\n",
       "      <th>label</th>\n",
       "      <th>genres</th>\n",
       "      <th>tags</th>\n",
       "      <th>user_supplied_tags</th>\n",
       "      <th>tags_0</th>\n",
       "      <th>tags_1</th>\n",
       "      <th>tags_2</th>\n",
       "      <th>tags_3</th>\n",
       "      <th>...</th>\n",
       "      <th>tags_5</th>\n",
       "      <th>tags_6</th>\n",
       "      <th>tags_7</th>\n",
       "      <th>tags_8</th>\n",
       "      <th>tags_9</th>\n",
       "      <th>genres_0</th>\n",
       "      <th>genres_1</th>\n",
       "      <th>genres_2</th>\n",
       "      <th>genres_3</th>\n",
       "      <th>genres_4</th>\n",
       "    </tr>\n",
       "  </thead>\n",
       "  <tbody>\n",
       "    <tr>\n",
       "      <th>0</th>\n",
       "      <td>1</td>\n",
       "      <td>1</td>\n",
       "      <td>1</td>\n",
       "      <td>Adventure|Animation|Children|Comedy|Fantasy</td>\n",
       "      <td>none</td>\n",
       "      <td>no_tags_supplied</td>\n",
       "      <td>none</td>\n",
       "      <td>none</td>\n",
       "      <td>none</td>\n",
       "      <td>none</td>\n",
       "      <td>...</td>\n",
       "      <td>none</td>\n",
       "      <td>none</td>\n",
       "      <td>none</td>\n",
       "      <td>none</td>\n",
       "      <td>none</td>\n",
       "      <td>Adventure</td>\n",
       "      <td>Animation</td>\n",
       "      <td>Children</td>\n",
       "      <td>Comedy</td>\n",
       "      <td>Fantasy</td>\n",
       "    </tr>\n",
       "    <tr>\n",
       "      <th>1</th>\n",
       "      <td>5</td>\n",
       "      <td>1</td>\n",
       "      <td>1</td>\n",
       "      <td>Adventure|Animation|Children|Comedy|Fantasy</td>\n",
       "      <td>none</td>\n",
       "      <td>no_tags_supplied</td>\n",
       "      <td>none</td>\n",
       "      <td>none</td>\n",
       "      <td>none</td>\n",
       "      <td>none</td>\n",
       "      <td>...</td>\n",
       "      <td>none</td>\n",
       "      <td>none</td>\n",
       "      <td>none</td>\n",
       "      <td>none</td>\n",
       "      <td>none</td>\n",
       "      <td>Adventure</td>\n",
       "      <td>Animation</td>\n",
       "      <td>Children</td>\n",
       "      <td>Comedy</td>\n",
       "      <td>Fantasy</td>\n",
       "    </tr>\n",
       "    <tr>\n",
       "      <th>2</th>\n",
       "      <td>7</td>\n",
       "      <td>1</td>\n",
       "      <td>1</td>\n",
       "      <td>Adventure|Animation|Children|Comedy|Fantasy</td>\n",
       "      <td>none</td>\n",
       "      <td>no_tags_supplied</td>\n",
       "      <td>none</td>\n",
       "      <td>none</td>\n",
       "      <td>none</td>\n",
       "      <td>none</td>\n",
       "      <td>...</td>\n",
       "      <td>none</td>\n",
       "      <td>none</td>\n",
       "      <td>none</td>\n",
       "      <td>none</td>\n",
       "      <td>none</td>\n",
       "      <td>Adventure</td>\n",
       "      <td>Animation</td>\n",
       "      <td>Children</td>\n",
       "      <td>Comedy</td>\n",
       "      <td>Fantasy</td>\n",
       "    </tr>\n",
       "    <tr>\n",
       "      <th>3</th>\n",
       "      <td>15</td>\n",
       "      <td>1</td>\n",
       "      <td>0</td>\n",
       "      <td>Adventure|Animation|Children|Comedy|Fantasy</td>\n",
       "      <td>none</td>\n",
       "      <td>no_tags_supplied</td>\n",
       "      <td>none</td>\n",
       "      <td>none</td>\n",
       "      <td>none</td>\n",
       "      <td>none</td>\n",
       "      <td>...</td>\n",
       "      <td>none</td>\n",
       "      <td>none</td>\n",
       "      <td>none</td>\n",
       "      <td>none</td>\n",
       "      <td>none</td>\n",
       "      <td>Adventure</td>\n",
       "      <td>Animation</td>\n",
       "      <td>Children</td>\n",
       "      <td>Comedy</td>\n",
       "      <td>Fantasy</td>\n",
       "    </tr>\n",
       "    <tr>\n",
       "      <th>4</th>\n",
       "      <td>17</td>\n",
       "      <td>1</td>\n",
       "      <td>1</td>\n",
       "      <td>Adventure|Animation|Children|Comedy|Fantasy</td>\n",
       "      <td>none</td>\n",
       "      <td>no_tags_supplied</td>\n",
       "      <td>none</td>\n",
       "      <td>none</td>\n",
       "      <td>none</td>\n",
       "      <td>none</td>\n",
       "      <td>...</td>\n",
       "      <td>none</td>\n",
       "      <td>none</td>\n",
       "      <td>none</td>\n",
       "      <td>none</td>\n",
       "      <td>none</td>\n",
       "      <td>Adventure</td>\n",
       "      <td>Animation</td>\n",
       "      <td>Children</td>\n",
       "      <td>Comedy</td>\n",
       "      <td>Fantasy</td>\n",
       "    </tr>\n",
       "  </tbody>\n",
       "</table>\n",
       "<p>5 rows × 21 columns</p>\n",
       "</div>"
      ],
      "text/plain": [
       "   userId  movieId  label                                       genres  tags  \\\n",
       "0       1        1      1  Adventure|Animation|Children|Comedy|Fantasy  none   \n",
       "1       5        1      1  Adventure|Animation|Children|Comedy|Fantasy  none   \n",
       "2       7        1      1  Adventure|Animation|Children|Comedy|Fantasy  none   \n",
       "3      15        1      0  Adventure|Animation|Children|Comedy|Fantasy  none   \n",
       "4      17        1      1  Adventure|Animation|Children|Comedy|Fantasy  none   \n",
       "\n",
       "  user_supplied_tags tags_0 tags_1 tags_2 tags_3   ...    tags_5 tags_6  \\\n",
       "0   no_tags_supplied   none   none   none   none   ...      none   none   \n",
       "1   no_tags_supplied   none   none   none   none   ...      none   none   \n",
       "2   no_tags_supplied   none   none   none   none   ...      none   none   \n",
       "3   no_tags_supplied   none   none   none   none   ...      none   none   \n",
       "4   no_tags_supplied   none   none   none   none   ...      none   none   \n",
       "\n",
       "  tags_7 tags_8 tags_9   genres_0   genres_1  genres_2 genres_3 genres_4  \n",
       "0   none   none   none  Adventure  Animation  Children   Comedy  Fantasy  \n",
       "1   none   none   none  Adventure  Animation  Children   Comedy  Fantasy  \n",
       "2   none   none   none  Adventure  Animation  Children   Comedy  Fantasy  \n",
       "3   none   none   none  Adventure  Animation  Children   Comedy  Fantasy  \n",
       "4   none   none   none  Adventure  Animation  Children   Comedy  Fantasy  \n",
       "\n",
       "[5 rows x 21 columns]"
      ]
     },
     "execution_count": 83,
     "metadata": {},
     "output_type": "execute_result"
    }
   ],
   "source": [
    "data_set_prepped.head()"
   ]
  },
  {
   "cell_type": "markdown",
   "metadata": {},
   "source": [
    "# Create A Sample For Local Tests"
   ]
  },
  {
   "cell_type": "code",
   "execution_count": 84,
   "metadata": {},
   "outputs": [],
   "source": [
    "data_set_prepped.sample(2000).to_csv('field_aware_fm/local_test/test_dir/input/data/training/sample_data.csv',index=None)"
   ]
  },
  {
   "cell_type": "markdown",
   "metadata": {},
   "source": [
    "* Navigate to the field-aware-fm folder\n",
    "* run ./build.sh with a name of a container to push to ecr\n",
    "* After this finishes navigate to local_test and run ./train.sh with the same container name\n",
    "* Verify that training completes properly"
   ]
  },
  {
   "cell_type": "markdown",
   "metadata": {},
   "source": [
    "# Create the session"
   ]
  },
  {
   "cell_type": "code",
   "execution_count": 85,
   "metadata": {},
   "outputs": [],
   "source": [
    "import sagemaker as sage\n",
    "from time import gmtime, strftime\n",
    "\n",
    "sess = sage.Session()"
   ]
  },
  {
   "cell_type": "markdown",
   "metadata": {},
   "source": [
    "# Save data in csv format"
   ]
  },
  {
   "cell_type": "code",
   "execution_count": 86,
   "metadata": {},
   "outputs": [],
   "source": [
    "try:\n",
    "    os.mkdir('data')\n",
    "except FileExistsError:\n",
    "    pass"
   ]
  },
  {
   "cell_type": "code",
   "execution_count": 87,
   "metadata": {},
   "outputs": [],
   "source": [
    "data_set_prepped.to_csv('data/movielens_expanded.csv',index=None)"
   ]
  },
  {
   "cell_type": "markdown",
   "metadata": {},
   "source": [
    "# Upload the data for training"
   ]
  },
  {
   "cell_type": "code",
   "execution_count": 88,
   "metadata": {},
   "outputs": [
    {
     "name": "stderr",
     "output_type": "stream",
     "text": [
      "INFO:sagemaker:Created S3 bucket: sagemaker-us-east-1-178197730631\n"
     ]
    }
   ],
   "source": [
    "WORK_DIRECTORY = 'data'\n",
    "\n",
    "data_location = sess.upload_data(WORK_DIRECTORY, key_prefix=prefix)"
   ]
  },
  {
   "cell_type": "code",
   "execution_count": 89,
   "metadata": {},
   "outputs": [],
   "source": [
    "account = sess.boto_session.client('sts').get_caller_identity()['Account']\n",
    "region = sess.boto_session.region_name\n",
    "image = '{}.dkr.ecr.{}.amazonaws.com/field-aware-fm:latest'.format(account, region)\n",
    "\n",
    "ffm = sage.estimator.Estimator(image,\n",
    "                       role, 1, 'ml.c4.8xlarge',\n",
    "                       output_path=\"s3://{}/output\".format(sess.default_bucket()),\n",
    "                       sagemaker_session=sess,train_volume_size=50)"
   ]
  },
  {
   "cell_type": "markdown",
   "metadata": {},
   "source": [
    "# Set Model Hyperparameters"
   ]
  },
  {
   "cell_type": "code",
   "execution_count": 102,
   "metadata": {},
   "outputs": [],
   "source": [
    "ffm.hyperparam_dict = {\n",
    "\t\"model_type\": \"ffm\",\n",
    "\t\"task\":\"binary\",\n",
    "\t\"optimizer\":\"adagrad\",\n",
    "\t\"rank\":20,\n",
    "\t\"metric\": \"acc\",\n",
    "\t\"learning_rate\":0.5,\n",
    "\t\"regularization\":0.001,\n",
    "\t\"n_columns\":1e5,\n",
    "\t\"min_threshold\":25,\n",
    "\t\"user_column\":\"userId\"\n",
    "}"
   ]
  },
  {
   "cell_type": "markdown",
   "metadata": {},
   "source": [
    "* rank controls the size of the latent factors\n",
    "\n",
    "* learning rate controls the rate of updates from the gradient\n",
    "\n",
    "* metric is the error metric \n",
    "\n",
    "* columns determine the number of unique columns\n",
    "\n",
    "* optimizer controls the algorithm used for gradient descent\n",
    "\n",
    "* min_threshold is the number of items per user needed to included in training\n",
    "\n",
    "* user_column is passed to find all user who meet the minimum threshold criteria\n",
    "\n",
    "* task is either regression or classification"
   ]
  },
  {
   "cell_type": "code",
   "execution_count": 103,
   "metadata": {},
   "outputs": [
    {
     "name": "stderr",
     "output_type": "stream",
     "text": [
      "INFO:sagemaker:Creating training-job with name: field-aware-fm-2019-01-24-00-01-57-745\n"
     ]
    },
    {
     "name": "stdout",
     "output_type": "stream",
     "text": [
      "2019-01-24 00:01:57 Starting - Starting the training job...\n",
      "2019-01-24 00:01:59 Starting - Launching requested ML instances......\n",
      "2019-01-24 00:03:08 Starting - Preparing the instances for training......\n",
      "2019-01-24 00:04:18 Downloading - Downloading input data\n",
      "2019-01-24 00:04:18 Training - Downloading the training image...\n",
      "2019-01-24 00:04:45 Training - Training image download completed. Training in progress.\n",
      "\u001b[31mStarting the training.\u001b[0m\n",
      "\u001b[31m['/opt/ml/input/data/training/movielens_expanded.csv']\u001b[0m\n",
      "\u001b[31m(100836, 21)\u001b[0m\n",
      "\u001b[31mconverting data......\u001b[0m\n",
      "\u001b[31mconverting data......\u001b[0m\n",
      "\u001b[31mconverting data......\u001b[0m\n",
      "\n",
      "2019-01-24 00:05:26 Uploading - Uploading generated training model\u001b[31m#033[32m#033[1m----------------------------------------------------------------------------------------------\n",
      "           _\n",
      "          | |\n",
      "     __  _| |     ___  __ _ _ __ _ __\n",
      "     \\ \\/ / |    / _ \\/ _` | '__| '_ \\ \n",
      "      >  <| |___|  __/ (_| | |  | | | |\n",
      "     /_/\\_\\_____/\\___|\\__,_|_|  |_| |_|\n",
      "\n",
      "        xLearn   -- 0.40 Version --\u001b[0m\n",
      "\u001b[31m----------------------------------------------------------------------------------------------\n",
      "\u001b[0m\n",
      "\u001b[31m#033[39m#033[0m#033[32m[------------] #033[0mxLearn uses 36 threads for training task.\u001b[0m\n",
      "\u001b[31m#033[32m#033[1m[ ACTION     ] Read Problem ...#033[0m\u001b[0m\n",
      "\u001b[31m#033[32m[------------] #033[0mFirst check if the text file has been already converted to binary format.\u001b[0m\n",
      "\u001b[31m#033[32m[------------] #033[0mBinary file (/opt/ml/input/data/training/x_train.txt.bin) NOT found. Convert text file to binary file.\u001b[0m\n",
      "\u001b[31m#033[32m[------------] #033[0mFirst check if the text file has been already converted to binary format.\u001b[0m\n",
      "\u001b[31m#033[32m[------------] #033[0mBinary file (/opt/ml/input/data/training/x_valid.txt.bin) NOT found. Convert text file to binary file.\u001b[0m\n",
      "\u001b[31m#033[32m[------------] #033[0mNumber of Feature: 99996\u001b[0m\n",
      "\u001b[31m#033[32m[------------] #033[0mNumber of Field: 20\u001b[0m\n",
      "\u001b[31m#033[32m[------------] #033[0mTime cost for reading problem: 0.37 (sec)\u001b[0m\n",
      "\u001b[31m#033[32m#033[1m[ ACTION     ] Initialize model ...#033[0m\u001b[0m\n",
      "\u001b[31m#033[32m[------------] #033[0mModel size: 305.93 MB\u001b[0m\n",
      "\u001b[31m#033[32m[------------] #033[0mTime cost for model initial: 0.32 (sec)\u001b[0m\n",
      "\u001b[31m#033[32m#033[1m[ ACTION     ] Start to train ...#033[0m\u001b[0m\n",
      "\u001b[31m#033[32m[------------]#033[0m Epoch      Train log_loss       Test log_loss       Test Accuarcy     Time cost (sec)\u001b[0m\n",
      "\u001b[31m#033[32m[ #033[0m  10%#033[32m      ]#033[0m     1            0.609390            0.589023            0.686428                0.30\u001b[0m\n",
      "\u001b[31m#033[32m[ #033[0m  20%#033[32m      ]#033[0m     2            0.570109            0.575408            0.699669                0.37\u001b[0m\n",
      "\u001b[31m#033[32m[ #033[0m  30%#033[32m      ]#033[0m     3            0.557493            0.568865            0.702076                0.59\u001b[0m\n",
      "\u001b[31m#033[32m[ #033[0m  40%#033[32m      ]#033[0m     4            0.549434            0.566446            0.707192                0.62\u001b[0m\n",
      "\u001b[31m#033[32m[ #033[0m  50%#033[32m      ]#033[0m     5            0.543598            0.562202            0.706791                0.60\u001b[0m\n",
      "\u001b[31m#033[32m[ #033[0m  60%#033[32m      ]#033[0m     6            0.538278            0.559932            0.709399                0.63\u001b[0m\n",
      "\u001b[31m#033[32m[ #033[0m  70%#033[32m      ]#033[0m     7            0.533722            0.559844            0.709700                0.60\u001b[0m\n",
      "\u001b[31m#033[32m[ #033[0m  80%#033[32m      ]#033[0m     8            0.529604            0.556686            0.710904                0.63\u001b[0m\n",
      "\u001b[31m#033[32m[ #033[0m  90%#033[32m      ]#033[0m     9            0.525399            0.555603            0.712709                0.59\u001b[0m\n",
      "\u001b[31m#033[32m[ #033[0m 100%#033[32m      ]#033[0m    10            0.521549            0.554374            0.715317                0.57\u001b[0m\n",
      "\u001b[31m#033[32m#033[1m[ ACTION     ] Start to save model ...#033[0m\u001b[0m\n",
      "\u001b[31m#033[32m[------------] #033[0mModel file: /opt/ml/model/model.out\u001b[0m\n",
      "\u001b[31m#033[32m[------------] #033[0mTime cost for saving model: 0.16 (sec)\u001b[0m\n",
      "\u001b[31m#033[32m#033[1m[ ACTION     ] Finish training#033[0m\u001b[0m\n",
      "\u001b[31m#033[32m#033[1m[ ACTION     ] Clear the xLearn environment ...#033[0m\u001b[0m\n",
      "\u001b[31m#033[32m#033[1m[------------] Total time cost: 6.83 (sec)#033[0m\u001b[0m\n",
      "\u001b[31m#033[32m#033[1m----------------------------------------------------------------------------------------------\n",
      "           _\n",
      "          | |\n",
      "     __  _| |     ___  __ _ _ __ _ __\n",
      "     \\ \\/ / |    / _ \\/ _` | '__| '_ \\ \n",
      "      >  <| |___|  __/ (_| | |  | | | |\n",
      "     /_/\\_\\_____/\\___|\\__,_|_|  |_| |_|\n",
      "\n",
      "        xLearn   -- 0.40 Version --\u001b[0m\n",
      "\u001b[31m----------------------------------------------------------------------------------------------\n",
      "\u001b[0m\n",
      "\u001b[31m#033[39m#033[0m#033[32m[------------] #033[0mxLearn uses 36 threads for prediction task.\u001b[0m\n",
      "\u001b[31m#033[32m#033[1m[ ACTION     ] Load model ...#033[0m\u001b[0m\n",
      "\u001b[31m#033[32m[------------] #033[0mLoad model from /opt/ml/model/model.out\u001b[0m\n",
      "\u001b[31m#033[32m[------------] #033[0mLoss function: cross-entropy\u001b[0m\n",
      "\u001b[31m#033[32m[------------] #033[0mScore function: ffm\u001b[0m\n",
      "\u001b[31m#033[32m[------------] #033[0mNumber of Feature: 99996\u001b[0m\n",
      "\u001b[31m#033[32m[------------] #033[0mNumber of K: 20\u001b[0m\n",
      "\u001b[31m#033[32m[------------] #033[0mNumber of field: 20\u001b[0m\n",
      "\u001b[31m#033[32m[------------] #033[0mTime cost for loading model: 0.15 (sec)\u001b[0m\n",
      "\u001b[31m#033[32m#033[1m[ ACTION     ] Read Problem ...#033[0m\u001b[0m\n",
      "\u001b[31m#033[32m[------------] #033[0mFirst check if the text file has been already converted to binary format.\u001b[0m\n",
      "\u001b[31m#033[32m[------------] #033[0mBinary file (/opt/ml/input/data/training/x_test.txt.bin) NOT found. Convert text file to binary file.\u001b[0m\n",
      "\u001b[31m#033[32m[------------] #033[0mTime cost for reading problem: 0.04 (sec)\u001b[0m\n",
      "\u001b[31m#033[32m#033[1m[ ACTION     ] Start to predict ...#033[0m\u001b[0m\n",
      "\u001b[31m#033[32m[------------] #033[0mThe test loss is: 0.550028\u001b[0m\n",
      "\u001b[31m#033[32m#033[1m[ ACTION     ] Clear the xLearn environment ...#033[0m\u001b[0m\n",
      "\u001b[31m#033[32m#033[1m[------------] Total time cost: 0.20 (sec)#033[0m\u001b[0m\n",
      "\u001b[31mTest Set Error : Accuracy 0.7223485631589829\u001b[0m\n",
      "\n",
      "2019-01-24 00:05:52 Completed - Training job completed\n",
      "Billable seconds: 100\n"
     ]
    }
   ],
   "source": [
    "ffm.fit(data_location)"
   ]
  },
  {
   "cell_type": "code",
   "execution_count": null,
   "metadata": {},
   "outputs": [],
   "source": []
  },
  {
   "cell_type": "code",
   "execution_count": null,
   "metadata": {},
   "outputs": [],
   "source": []
  }
 ],
 "metadata": {
  "kernelspec": {
   "display_name": "Python 3",
   "language": "python",
   "name": "python3"
  },
  "language_info": {
   "codemirror_mode": {
    "name": "ipython",
    "version": 3
   },
   "file_extension": ".py",
   "mimetype": "text/x-python",
   "name": "python",
   "nbconvert_exporter": "python",
   "pygments_lexer": "ipython3",
   "version": "3.7.4"
  }
 },
 "nbformat": 4,
 "nbformat_minor": 2
}
